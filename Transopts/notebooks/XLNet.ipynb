{
 "cells": [
  {
   "cell_type": "markdown",
   "id": "37ba2399",
   "metadata": {},
   "source": [
    "#### Implementing HuggingFace's XLNet ####"
   ]
  },
  {
   "cell_type": "code",
   "execution_count": 1,
   "id": "6bb02401",
   "metadata": {},
   "outputs": [],
   "source": [
    "import torch\n",
    "import torch.nn.functional as F\n",
    "import numpy as np\n",
    "from transformers import XLNetConfig, XLNetLMHeadModel\n",
    "from common import get_text, num_params, set_seed, get_tensors\n",
    "from einops import rearrange\n",
    "from tqdm import trange\n",
    "from autoregressive_wrapper import AutoregressiveWrapper\n",
    "\n",
    "import matplotlib.pyplot as plt\n",
    "%matplotlib inline"
   ]
  },
  {
   "cell_type": "code",
   "execution_count": 2,
   "id": "251ff33d",
   "metadata": {},
   "outputs": [],
   "source": [
    "#Set seed so that the random results that are generated can be reproduced\n",
    "set_seed(123)\n",
    "#Set device\n",
    "device = \"cuda\" if torch.cuda.is_available() else \"cpu\""
   ]
  },
  {
   "cell_type": "code",
   "execution_count": 3,
   "id": "3d208bf4",
   "metadata": {},
   "outputs": [],
   "source": [
    "#Get the text\n",
    "text = get_text()"
   ]
  },
  {
   "cell_type": "code",
   "execution_count": 4,
   "id": "fa5ea4dd",
   "metadata": {},
   "outputs": [
    {
     "name": "stdout",
     "output_type": "stream",
     "text": [
      "Vocab size: 39\n"
     ]
    }
   ],
   "source": [
    "#Get the Tensors for the text\n",
    "t, vocab = get_tensors(text)\n",
    "t = t.to(device)"
   ]
  },
  {
   "cell_type": "code",
   "execution_count": 5,
   "id": "17a2cb8e",
   "metadata": {},
   "outputs": [
    {
     "data": {
      "text/plain": [
       "XLNetLMHeadModel(\n",
       "  (transformer): XLNetModel(\n",
       "    (word_embedding): Embedding(39, 16)\n",
       "    (layer): ModuleList(\n",
       "      (0): XLNetLayer(\n",
       "        (rel_attn): XLNetRelativeAttention(\n",
       "          (layer_norm): LayerNorm((16,), eps=1e-12, elementwise_affine=True)\n",
       "          (dropout): Dropout(p=0.1, inplace=False)\n",
       "        )\n",
       "        (ff): XLNetFeedForward(\n",
       "          (layer_norm): LayerNorm((16,), eps=1e-12, elementwise_affine=True)\n",
       "          (layer_1): Linear(in_features=16, out_features=128, bias=True)\n",
       "          (layer_2): Linear(in_features=128, out_features=16, bias=True)\n",
       "          (dropout): Dropout(p=0.1, inplace=False)\n",
       "        )\n",
       "        (dropout): Dropout(p=0.1, inplace=False)\n",
       "      )\n",
       "      (1): XLNetLayer(\n",
       "        (rel_attn): XLNetRelativeAttention(\n",
       "          (layer_norm): LayerNorm((16,), eps=1e-12, elementwise_affine=True)\n",
       "          (dropout): Dropout(p=0.1, inplace=False)\n",
       "        )\n",
       "        (ff): XLNetFeedForward(\n",
       "          (layer_norm): LayerNorm((16,), eps=1e-12, elementwise_affine=True)\n",
       "          (layer_1): Linear(in_features=16, out_features=128, bias=True)\n",
       "          (layer_2): Linear(in_features=128, out_features=16, bias=True)\n",
       "          (dropout): Dropout(p=0.1, inplace=False)\n",
       "        )\n",
       "        (dropout): Dropout(p=0.1, inplace=False)\n",
       "      )\n",
       "    )\n",
       "    (dropout): Dropout(p=0.1, inplace=False)\n",
       "  )\n",
       "  (lm_loss): Linear(in_features=16, out_features=39, bias=True)\n",
       ")"
      ]
     },
     "execution_count": 5,
     "metadata": {},
     "output_type": "execute_result"
    }
   ],
   "source": [
    "config = XLNetConfig(\n",
    "  vocab_size=len(vocab),\n",
    "  d_model=16,\n",
    "  n_layer=2,\n",
    "  n_head=1,\n",
    "  d_inner=128, \n",
    ")\n",
    "set_seed(4)\n",
    "model = XLNetLMHeadModel(config)\n",
    "model.to(device)"
   ]
  },
  {
   "cell_type": "code",
   "execution_count": 6,
   "id": "ec810666",
   "metadata": {},
   "outputs": [
    {
     "data": {
      "text/plain": [
       "XLNetLMHeadModel(\n",
       "  (transformer): XLNetModel(\n",
       "    (word_embedding): Embedding(39, 16)\n",
       "    (layer): ModuleList(\n",
       "      (0): XLNetLayer(\n",
       "        (rel_attn): XLNetRelativeAttention(\n",
       "          (layer_norm): LayerNorm((16,), eps=1e-12, elementwise_affine=True)\n",
       "          (dropout): Dropout(p=0.1, inplace=False)\n",
       "        )\n",
       "        (ff): XLNetFeedForward(\n",
       "          (layer_norm): LayerNorm((16,), eps=1e-12, elementwise_affine=True)\n",
       "          (layer_1): Linear(in_features=16, out_features=128, bias=True)\n",
       "          (layer_2): Linear(in_features=128, out_features=16, bias=True)\n",
       "          (dropout): Dropout(p=0.1, inplace=False)\n",
       "        )\n",
       "        (dropout): Dropout(p=0.1, inplace=False)\n",
       "      )\n",
       "      (1): XLNetLayer(\n",
       "        (rel_attn): XLNetRelativeAttention(\n",
       "          (layer_norm): LayerNorm((16,), eps=1e-12, elementwise_affine=True)\n",
       "          (dropout): Dropout(p=0.1, inplace=False)\n",
       "        )\n",
       "        (ff): XLNetFeedForward(\n",
       "          (layer_norm): LayerNorm((16,), eps=1e-12, elementwise_affine=True)\n",
       "          (layer_1): Linear(in_features=16, out_features=128, bias=True)\n",
       "          (layer_2): Linear(in_features=128, out_features=16, bias=True)\n",
       "          (dropout): Dropout(p=0.1, inplace=False)\n",
       "        )\n",
       "        (dropout): Dropout(p=0.1, inplace=False)\n",
       "      )\n",
       "    )\n",
       "    (dropout): Dropout(p=0.1, inplace=False)\n",
       "  )\n",
       "  (lm_loss): Linear(in_features=16, out_features=39, bias=True)\n",
       ")"
      ]
     },
     "execution_count": 6,
     "metadata": {},
     "output_type": "execute_result"
    }
   ],
   "source": [
    "model"
   ]
  },
  {
   "cell_type": "code",
   "execution_count": 7,
   "id": "79b723ff",
   "metadata": {},
   "outputs": [
    {
     "data": {
      "text/plain": [
       "12007"
      ]
     },
     "execution_count": 7,
     "metadata": {},
     "output_type": "execute_result"
    }
   ],
   "source": [
    "model.num_parameters()"
   ]
  },
  {
   "cell_type": "code",
   "execution_count": 8,
   "id": "f57b5ad9",
   "metadata": {},
   "outputs": [
    {
     "name": "stderr",
     "output_type": "stream",
     "text": [
      "Loss: 2.978: 100%|██████████| 100/100 [00:05<00:00, 18.19it/s]\n"
     ]
    }
   ],
   "source": [
    "def forward(train = True):\n",
    "    if train:\n",
    "        model.train()\n",
    "        out = model(t[:, :-1])\n",
    "        logits = out.logits\n",
    "        B,S,V = logits.shape # batch size, input size, vocabulary\n",
    "\n",
    "        # continuguous(): doesn't work if you dont do it.\n",
    "        # flatten because F.cross_entropy() doesn't work.\n",
    "        logits_flat = logits.view(-1, V)             # b, s, v -> b * s, v\n",
    "        target_flat = t[:, 1:].contiguous().view(-1) # b, s    -> b * s  \n",
    "        loss = F.cross_entropy(logits_flat, target_flat)\n",
    "        return logits, loss\n",
    "    else:\n",
    "        model.eval()\n",
    "        logits = model(t)\n",
    "        return logits\n",
    "    \n",
    "\n",
    "# train\n",
    "n_steps = 100\n",
    "optim = torch.optim.Adam(model.parameters())\n",
    "all_losses = []\n",
    "pbar = trange(n_steps) # progress bar\n",
    "for i in pbar:\n",
    "    if i:\n",
    "        pbar.set_description(f\"Loss: {all_losses[-1]:.3f}\")\n",
    "        \n",
    "    logits, loss = forward(True)\n",
    "    optim.zero_grad() # removes previous looks gradient buffers\n",
    "    loss.backward()   # fill gradient buffers\n",
    "    optim.step()      # buffer -> update weights\n",
    "    all_losses.append(loss.item())"
   ]
  },
  {
   "cell_type": "code",
   "execution_count": 9,
   "id": "ea736681",
   "metadata": {},
   "outputs": [
    {
     "name": "stdout",
     "output_type": "stream",
     "text": [
      "Number of parameters =  12007\n"
     ]
    },
    {
     "data": {
      "image/png": "[encoded data removed]",
      "text/plain": [
       "<Figure size 432x288 with 1 Axes>"
      ]
     },
     "metadata": {
      "needs_background": "light"
     },
     "output_type": "display_data"
    }
   ],
   "source": [
    "plt.plot(all_losses)\n",
    "print(\"Number of parameters = \", model.num_parameters())"
   ]
  },
  {
   "cell_type": "code",
   "execution_count": 10,
   "id": "502cde8b",
   "metadata": {},
   "outputs": [
    {
     "name": "stdout",
     "output_type": "stream",
     "text": [
      "[[13, 30, 32, 21, 31, 32, 1, 1, 1, 1, 1, 1, 1, 1, 1, 1, 1, 1, 1, 1]]\n"
     ]
    }
   ],
   "source": [
    "input_tokens = [vocab[x] for x in \"artist\"]\n",
    "out = model.generate(torch.Tensor([input_tokens]).long().to(device), max_len = 128).tolist()\n",
    "print(out)"
   ]
  },
  {
   "cell_type": "code",
   "execution_count": null,
   "id": "5caa07d9",
   "metadata": {},
   "outputs": [],
   "source": []
  }
 ],
 "metadata": {
  "kernelspec": {
   "display_name": "ML and DL (PyTorch Only) with CUDA 11.1",
   "language": "python",
   "name": "cuda111"
  },
  "language_info": {
   "codemirror_mode": {
    "name": "ipython",
    "version": 3
   },
   "file_extension": ".py",
   "mimetype": "text/x-python",
   "name": "python",
   "nbconvert_exporter": "python",
   "pygments_lexer": "ipython3",
   "version": "3.8.8"
  }
 },
 "nbformat": 4,
 "nbformat_minor": 5
}
